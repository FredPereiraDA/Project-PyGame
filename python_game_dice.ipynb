{
 "cells": [
  {
   "cell_type": "markdown",
   "id": "5ea64e89",
   "metadata": {},
   "source": [
    "## Jogo de Dados Python"
   ]
  },
  {
   "cell_type": "code",
   "execution_count": 1,
   "id": "23a733ac",
   "metadata": {},
   "outputs": [],
   "source": [
    "import random"
   ]
  },
  {
   "cell_type": "code",
   "execution_count": 2,
   "id": "b9e3debb",
   "metadata": {},
   "outputs": [],
   "source": [
    "from emoji import emojize"
   ]
  },
  {
   "cell_type": "code",
   "execution_count": 3,
   "id": "b0ceebd7",
   "metadata": {},
   "outputs": [],
   "source": [
    "def limit():\n",
    "    flag = True\n",
    "    while flag:\n",
    "        limit = input('Coloque aqui a quantidade de chances!: ')\n",
    "        try:\n",
    "            if int(limit) in range(1,11):\n",
    "                flag=False\n",
    "                return int(limit)\n",
    "        except:\n",
    "            pass"
   ]
  },
  {
   "cell_type": "code",
   "execution_count": 4,
   "id": "d66269a7",
   "metadata": {},
   "outputs": [],
   "source": [
    "def dados():\n",
    "\n",
    "    print(emojize(\":game_die:\"))\n",
    "    print(f\"BEM-VINDO AO JOGO DOS DADOS!\")\n",
    "    print(\"QUANDO ROLAR DOIS DADOS IGUAIS VOCÊ VENCE O JOGO!\")\n",
    "    print(\"INÍCIO DE JOGO!\")\n",
    "    print(\"Quantas chances você quer? De 1 a 10! \\n\")\n",
    "    n = limit()\n",
    "    chances_left = 0\n",
    "    contador = 0\n",
    "    \n",
    "    while chances_left < int(n):\n",
    "        input(\"Rolando os dados, pressione qualquer tecla: \")\n",
    "        chances_left = chances_left + 1\n",
    "        d1 = random.randint(1,8)\n",
    "        d2 = random.randint(1,8)\n",
    "        print(d1,d2)\n",
    "        \n",
    "        if d1 == d2:\n",
    "            print('Ganhou!\\n')\n",
    "            break\n",
    "        else:\n",
    "            print('Perdeu! Tente de novo!')\n",
    "        print(f\"Faltam {int(n) - chances_left} chances de {int(n)}\\n\")\n",
    "        contador += 1\n",
    "    if contador == int(n):\n",
    "        print(\"Jogo Encerrado! Você Perdeu! Jogue de novo!\")\n",
    "    else:\n",
    "        print(\"Jogo Encerrado! Você Venceu! Venha jogar de novo!\")"
   ]
  },
  {
   "cell_type": "code",
   "execution_count": 5,
   "id": "21298c37",
   "metadata": {
    "scrolled": true
   },
   "outputs": [
    {
     "name": "stdout",
     "output_type": "stream",
     "text": [
      "🎲\n",
      "BEM-VINDO AO JOGO DOS DADOS!\n",
      "QUANDO ROLAR DOIS DADOS IGUAIS VOCÊ VENCE O JOGO!\n",
      "INÍCIO DE JOGO!\n",
      "Quantas chances você quer? De 1 a 10! \n",
      "\n",
      "Coloque aqui a quantidade de chances!: 2\n",
      "Rolando os dados, pressione qualquer tecla: \n",
      "2 5\n",
      "Perdeu! Tente de novo!\n",
      "Faltam 1 chances de 2\n",
      "\n",
      "Rolando os dados, pressione qualquer tecla: \n",
      "1 3\n",
      "Perdeu! Tente de novo!\n",
      "Faltam 0 chances de 2\n",
      "\n",
      "Jogo Encerrado! Você Perdeu! Jogue de novo!\n"
     ]
    }
   ],
   "source": [
    "dados()"
   ]
  },
  {
   "cell_type": "code",
   "execution_count": null,
   "id": "fcf26482",
   "metadata": {},
   "outputs": [],
   "source": []
  }
 ],
 "metadata": {
  "kernelspec": {
   "display_name": "Python 3 (ipykernel)",
   "language": "python",
   "name": "python3"
  },
  "language_info": {
   "codemirror_mode": {
    "name": "ipython",
    "version": 3
   },
   "file_extension": ".py",
   "mimetype": "text/x-python",
   "name": "python",
   "nbconvert_exporter": "python",
   "pygments_lexer": "ipython3",
   "version": "3.9.7"
  }
 },
 "nbformat": 4,
 "nbformat_minor": 5
}
