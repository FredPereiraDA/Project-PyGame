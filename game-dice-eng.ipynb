{
 "cells": [
  {
   "cell_type": "code",
   "execution_count": 1,
   "id": "37287a41",
   "metadata": {},
   "outputs": [],
   "source": [
    "import random"
   ]
  },
  {
   "cell_type": "code",
   "execution_count": 2,
   "id": "1ad3b82d",
   "metadata": {},
   "outputs": [],
   "source": [
    "from emoji import emojize"
   ]
  },
  {
   "cell_type": "code",
   "execution_count": 3,
   "id": "96f687bd",
   "metadata": {},
   "outputs": [],
   "source": [
    "def limit():\n",
    "    flag = True\n",
    "    while flag:\n",
    "        limit = input('Input here your chances!: ')\n",
    "        try:\n",
    "            if int(limit) in range(1,11):\n",
    "                flag=False\n",
    "                return int(limit)\n",
    "        except:\n",
    "            pass"
   ]
  },
  {
   "cell_type": "code",
   "execution_count": 4,
   "id": "27bcae9e",
   "metadata": {},
   "outputs": [],
   "source": [
    "def dice():\n",
    "\n",
    "    print(emojize(\":game_die:\"))\n",
    "    print(f\"WELCOME TO DICE GAME!\")\n",
    "    print(\"WHEN YOU ROLL TWO DIES WITH THE SAME NUMBER YOU WIN!\")\n",
    "    print(\"GAME START!\")\n",
    "    print(\"How many chances do you want? 1 to 10! \\n\")\n",
    "    n = limit()\n",
    "    chances_left = 0\n",
    "    contador = 0\n",
    "    \n",
    "    while chances_left < int(n):\n",
    "        input(\"Rolling dice, press any key: \")\n",
    "        chances_left = chances_left + 1\n",
    "        d1 = random.randint(1,8)\n",
    "        d2 = random.randint(1,8)\n",
    "        print(d1,d2)\n",
    "        \n",
    "        if d1 == d2:\n",
    "            print('Win!\\n')\n",
    "            break\n",
    "        else:\n",
    "            print('Lost! Try again!')\n",
    "        print(f\"{int(n) - chances_left} chances remain out of {int(n)}\\n\")\n",
    "        contador += 1\n",
    "    if contador == int(n):\n",
    "        print(\"Game Over! You Lose!\")\n",
    "    else:\n",
    "        print(\"Game End! You Win!\")"
   ]
  },
  {
   "cell_type": "code",
   "execution_count": 6,
   "id": "6e0547ad",
   "metadata": {},
   "outputs": [
    {
     "name": "stdout",
     "output_type": "stream",
     "text": [
      "🎲\n",
      "WELCOME TO DICE GAME!\n",
      "WHEN YOU ROLL TWO DIES WITH THE SAME NUMBER YOU WIN!\n",
      "GAME START!\n",
      "How many chances do you want? 1 to 10! \n",
      "\n",
      "Input here your chances!: a\n",
      "Input here your chances!: \n",
      "Input here your chances!: 11\n",
      "Input here your chances!: 12\n",
      "Input here your chances!: 4\n",
      "Rolling dice, press any key: \n",
      "8 3\n",
      "Lost! Try again!\n",
      "3 chances remain out of 4\n",
      "\n",
      "Rolling dice, press any key: \n",
      "6 7\n",
      "Lost! Try again!\n",
      "2 chances remain out of 4\n",
      "\n",
      "Rolling dice, press any key: \n",
      "8 2\n",
      "Lost! Try again!\n",
      "1 chances remain out of 4\n",
      "\n",
      "Rolling dice, press any key: \n",
      "7 8\n",
      "Lost! Try again!\n",
      "0 chances remain out of 4\n",
      "\n",
      "Game Over! You Lose!\n"
     ]
    }
   ],
   "source": [
    "dice()"
   ]
  },
  {
   "cell_type": "code",
   "execution_count": null,
   "id": "90cb673f",
   "metadata": {},
   "outputs": [],
   "source": []
  }
 ],
 "metadata": {
  "kernelspec": {
   "display_name": "Python 3 (ipykernel)",
   "language": "python",
   "name": "python3"
  },
  "language_info": {
   "codemirror_mode": {
    "name": "ipython",
    "version": 3
   },
   "file_extension": ".py",
   "mimetype": "text/x-python",
   "name": "python",
   "nbconvert_exporter": "python",
   "pygments_lexer": "ipython3",
   "version": "3.9.7"
  }
 },
 "nbformat": 4,
 "nbformat_minor": 5
}
